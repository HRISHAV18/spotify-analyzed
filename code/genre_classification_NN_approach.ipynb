{
  "nbformat": 4,
  "nbformat_minor": 0,
  "metadata": {
    "colab": {
      "name": "genre_classification_NN_approach.ipynb",
      "provenance": [],
      "collapsed_sections": [],
      "toc_visible": true
    },
    "kernelspec": {
      "name": "python3",
      "display_name": "Python 3"
    }
  },
  "cells": [
    {
      "cell_type": "markdown",
      "metadata": {
        "id": "fbE6iWWTkDfU"
      },
      "source": [
        "# ENPM808W Spotify Project - Experimental\n",
        "In this notebook, we tried to implement a Deep Neural Network to fit the data to genres, i.e. Genre Classification. This is an experimental notebook. This did not work out for us due to the non-covergence in the model caused by the vast dimensionality of the data."
      ]
    },
    {
      "cell_type": "code",
      "metadata": {
        "colab": {
          "base_uri": "https://localhost:8080/"
        },
        "id": "j0ALu6_PP95L",
        "outputId": "24b63895-5da2-4ec3-cd40-e6749e4e7a68"
      },
      "source": [
        "from google.colab import drive\n",
        "drive.mount('/content/drive', force_remount=True)"
      ],
      "execution_count": 1,
      "outputs": [
        {
          "output_type": "stream",
          "text": [
            "Mounted at /content/drive\n"
          ],
          "name": "stdout"
        }
      ]
    },
    {
      "cell_type": "code",
      "metadata": {
        "id": "NKFf7stqPzBb"
      },
      "source": [
        "import pandas as pd\n",
        "import seaborn as sns\n",
        "import matplotlib.pyplot as plt\n",
        "import numpy as np"
      ],
      "execution_count": 2,
      "outputs": []
    },
    {
      "cell_type": "code",
      "metadata": {
        "id": "EM_DOQ0CP8jA"
      },
      "source": [
        "# Load datasets\n",
        "data_by_genres = pd.read_csv('/content/drive/My Drive/Project Dataset/archive/data_by_genres.csv')\n",
        "data_w_genres =  pd.read_csv('/content/drive/My Drive/Project Dataset/archive/data_w_genres.csv')"
      ],
      "execution_count": 25,
      "outputs": []
    },
    {
      "cell_type": "markdown",
      "metadata": {
        "id": "mDeKiWUXlNj4"
      },
      "source": [
        "## Representing the dataset\n",
        "We represent the dataset to understand how it is like"
      ]
    },
    {
      "cell_type": "code",
      "metadata": {
        "colab": {
          "base_uri": "https://localhost:8080/",
          "height": 359
        },
        "id": "wuRKRapXRLCN",
        "outputId": "a781a81d-c1e9-49e7-99b5-81e4eb2af85e"
      },
      "source": [
        "data_by_genres.head(10)"
      ],
      "execution_count": 4,
      "outputs": [
        {
          "output_type": "execute_result",
          "data": {
            "text/html": [
              "<div>\n",
              "<style scoped>\n",
              "    .dataframe tbody tr th:only-of-type {\n",
              "        vertical-align: middle;\n",
              "    }\n",
              "\n",
              "    .dataframe tbody tr th {\n",
              "        vertical-align: top;\n",
              "    }\n",
              "\n",
              "    .dataframe thead th {\n",
              "        text-align: right;\n",
              "    }\n",
              "</style>\n",
              "<table border=\"1\" class=\"dataframe\">\n",
              "  <thead>\n",
              "    <tr style=\"text-align: right;\">\n",
              "      <th></th>\n",
              "      <th>genres</th>\n",
              "      <th>acousticness</th>\n",
              "      <th>danceability</th>\n",
              "      <th>duration_ms</th>\n",
              "      <th>energy</th>\n",
              "      <th>instrumentalness</th>\n",
              "      <th>liveness</th>\n",
              "      <th>loudness</th>\n",
              "      <th>speechiness</th>\n",
              "      <th>tempo</th>\n",
              "      <th>valence</th>\n",
              "      <th>popularity</th>\n",
              "      <th>key</th>\n",
              "      <th>mode</th>\n",
              "    </tr>\n",
              "  </thead>\n",
              "  <tbody>\n",
              "    <tr>\n",
              "      <th>0</th>\n",
              "      <td>432hz</td>\n",
              "      <td>0.494780</td>\n",
              "      <td>0.299333</td>\n",
              "      <td>1.048887e+06</td>\n",
              "      <td>0.450678</td>\n",
              "      <td>0.477762</td>\n",
              "      <td>0.131000</td>\n",
              "      <td>-16.854000</td>\n",
              "      <td>0.076817</td>\n",
              "      <td>120.285667</td>\n",
              "      <td>0.221750</td>\n",
              "      <td>52.166667</td>\n",
              "      <td>5</td>\n",
              "      <td>1</td>\n",
              "    </tr>\n",
              "    <tr>\n",
              "      <th>1</th>\n",
              "      <td>[]</td>\n",
              "      <td>0.679245</td>\n",
              "      <td>0.521473</td>\n",
              "      <td>2.298526e+05</td>\n",
              "      <td>0.401522</td>\n",
              "      <td>0.196737</td>\n",
              "      <td>0.221586</td>\n",
              "      <td>-12.679076</td>\n",
              "      <td>0.112267</td>\n",
              "      <td>112.025168</td>\n",
              "      <td>0.515920</td>\n",
              "      <td>21.682005</td>\n",
              "      <td>7</td>\n",
              "      <td>1</td>\n",
              "    </tr>\n",
              "    <tr>\n",
              "      <th>2</th>\n",
              "      <td>a cappella</td>\n",
              "      <td>0.621532</td>\n",
              "      <td>0.577017</td>\n",
              "      <td>1.936522e+05</td>\n",
              "      <td>0.345694</td>\n",
              "      <td>0.003799</td>\n",
              "      <td>0.127087</td>\n",
              "      <td>-12.770211</td>\n",
              "      <td>0.095324</td>\n",
              "      <td>111.813230</td>\n",
              "      <td>0.453186</td>\n",
              "      <td>43.351819</td>\n",
              "      <td>11</td>\n",
              "      <td>1</td>\n",
              "    </tr>\n",
              "    <tr>\n",
              "      <th>3</th>\n",
              "      <td>abstract</td>\n",
              "      <td>0.359395</td>\n",
              "      <td>0.459500</td>\n",
              "      <td>3.430185e+05</td>\n",
              "      <td>0.487000</td>\n",
              "      <td>0.791400</td>\n",
              "      <td>0.119480</td>\n",
              "      <td>-14.092000</td>\n",
              "      <td>0.043420</td>\n",
              "      <td>124.743200</td>\n",
              "      <td>0.304990</td>\n",
              "      <td>41.500000</td>\n",
              "      <td>1</td>\n",
              "      <td>1</td>\n",
              "    </tr>\n",
              "    <tr>\n",
              "      <th>4</th>\n",
              "      <td>abstract beats</td>\n",
              "      <td>0.353347</td>\n",
              "      <td>0.694400</td>\n",
              "      <td>2.338244e+05</td>\n",
              "      <td>0.613400</td>\n",
              "      <td>0.349403</td>\n",
              "      <td>0.102453</td>\n",
              "      <td>-6.699800</td>\n",
              "      <td>0.143453</td>\n",
              "      <td>119.398400</td>\n",
              "      <td>0.634187</td>\n",
              "      <td>58.600000</td>\n",
              "      <td>10</td>\n",
              "      <td>0</td>\n",
              "    </tr>\n",
              "    <tr>\n",
              "      <th>5</th>\n",
              "      <td>abstract hip hop</td>\n",
              "      <td>0.205872</td>\n",
              "      <td>0.723132</td>\n",
              "      <td>2.490951e+05</td>\n",
              "      <td>0.645461</td>\n",
              "      <td>0.002853</td>\n",
              "      <td>0.168032</td>\n",
              "      <td>-7.216007</td>\n",
              "      <td>0.250104</td>\n",
              "      <td>112.160287</td>\n",
              "      <td>0.584392</td>\n",
              "      <td>43.804971</td>\n",
              "      <td>11</td>\n",
              "      <td>1</td>\n",
              "    </tr>\n",
              "    <tr>\n",
              "      <th>6</th>\n",
              "      <td>accordeon</td>\n",
              "      <td>0.801333</td>\n",
              "      <td>0.626333</td>\n",
              "      <td>1.626133e+05</td>\n",
              "      <td>0.309000</td>\n",
              "      <td>0.616000</td>\n",
              "      <td>0.252667</td>\n",
              "      <td>-10.736667</td>\n",
              "      <td>0.035733</td>\n",
              "      <td>114.522000</td>\n",
              "      <td>0.543667</td>\n",
              "      <td>28.666667</td>\n",
              "      <td>2</td>\n",
              "      <td>1</td>\n",
              "    </tr>\n",
              "    <tr>\n",
              "      <th>7</th>\n",
              "      <td>accordion</td>\n",
              "      <td>0.486208</td>\n",
              "      <td>0.640833</td>\n",
              "      <td>1.665082e+05</td>\n",
              "      <td>0.364000</td>\n",
              "      <td>0.111317</td>\n",
              "      <td>0.186975</td>\n",
              "      <td>-14.436542</td>\n",
              "      <td>0.082775</td>\n",
              "      <td>112.722167</td>\n",
              "      <td>0.643917</td>\n",
              "      <td>15.208333</td>\n",
              "      <td>2</td>\n",
              "      <td>1</td>\n",
              "    </tr>\n",
              "    <tr>\n",
              "      <th>8</th>\n",
              "      <td>acid house</td>\n",
              "      <td>0.057002</td>\n",
              "      <td>0.684228</td>\n",
              "      <td>2.936093e+05</td>\n",
              "      <td>0.721419</td>\n",
              "      <td>0.320219</td>\n",
              "      <td>0.232381</td>\n",
              "      <td>-10.378311</td>\n",
              "      <td>0.058509</td>\n",
              "      <td>123.175933</td>\n",
              "      <td>0.622206</td>\n",
              "      <td>44.566667</td>\n",
              "      <td>11</td>\n",
              "      <td>1</td>\n",
              "    </tr>\n",
              "    <tr>\n",
              "      <th>9</th>\n",
              "      <td>acid jazz</td>\n",
              "      <td>0.155414</td>\n",
              "      <td>0.714200</td>\n",
              "      <td>2.843624e+05</td>\n",
              "      <td>0.694667</td>\n",
              "      <td>0.190613</td>\n",
              "      <td>0.106800</td>\n",
              "      <td>-10.234667</td>\n",
              "      <td>0.052020</td>\n",
              "      <td>112.243400</td>\n",
              "      <td>0.789367</td>\n",
              "      <td>44.033333</td>\n",
              "      <td>6</td>\n",
              "      <td>1</td>\n",
              "    </tr>\n",
              "  </tbody>\n",
              "</table>\n",
              "</div>"
            ],
            "text/plain": [
              "             genres  acousticness  danceability  ...  popularity  key  mode\n",
              "0             432hz      0.494780      0.299333  ...   52.166667    5     1\n",
              "1                []      0.679245      0.521473  ...   21.682005    7     1\n",
              "2        a cappella      0.621532      0.577017  ...   43.351819   11     1\n",
              "3          abstract      0.359395      0.459500  ...   41.500000    1     1\n",
              "4    abstract beats      0.353347      0.694400  ...   58.600000   10     0\n",
              "5  abstract hip hop      0.205872      0.723132  ...   43.804971   11     1\n",
              "6         accordeon      0.801333      0.626333  ...   28.666667    2     1\n",
              "7         accordion      0.486208      0.640833  ...   15.208333    2     1\n",
              "8        acid house      0.057002      0.684228  ...   44.566667   11     1\n",
              "9         acid jazz      0.155414      0.714200  ...   44.033333    6     1\n",
              "\n",
              "[10 rows x 14 columns]"
            ]
          },
          "metadata": {
            "tags": []
          },
          "execution_count": 4
        }
      ]
    },
    {
      "cell_type": "code",
      "metadata": {
        "colab": {
          "base_uri": "https://localhost:8080/",
          "height": 391
        },
        "id": "u5WXjeD-RNop",
        "outputId": "00ab2073-9551-4a8e-f607-7081cde1d03e"
      },
      "source": [
        "data_w_genres.head()"
      ],
      "execution_count": 5,
      "outputs": [
        {
          "output_type": "execute_result",
          "data": {
            "text/html": [
              "<div>\n",
              "<style scoped>\n",
              "    .dataframe tbody tr th:only-of-type {\n",
              "        vertical-align: middle;\n",
              "    }\n",
              "\n",
              "    .dataframe tbody tr th {\n",
              "        vertical-align: top;\n",
              "    }\n",
              "\n",
              "    .dataframe thead th {\n",
              "        text-align: right;\n",
              "    }\n",
              "</style>\n",
              "<table border=\"1\" class=\"dataframe\">\n",
              "  <thead>\n",
              "    <tr style=\"text-align: right;\">\n",
              "      <th></th>\n",
              "      <th>artists</th>\n",
              "      <th>acousticness</th>\n",
              "      <th>danceability</th>\n",
              "      <th>duration_ms</th>\n",
              "      <th>energy</th>\n",
              "      <th>instrumentalness</th>\n",
              "      <th>liveness</th>\n",
              "      <th>loudness</th>\n",
              "      <th>speechiness</th>\n",
              "      <th>tempo</th>\n",
              "      <th>valence</th>\n",
              "      <th>popularity</th>\n",
              "      <th>key</th>\n",
              "      <th>mode</th>\n",
              "      <th>count</th>\n",
              "      <th>genres</th>\n",
              "    </tr>\n",
              "  </thead>\n",
              "  <tbody>\n",
              "    <tr>\n",
              "      <th>0</th>\n",
              "      <td>\"Cats\" 1981 Original London Cast</td>\n",
              "      <td>0.575083</td>\n",
              "      <td>0.442750</td>\n",
              "      <td>247260.000000</td>\n",
              "      <td>0.386336</td>\n",
              "      <td>0.022717</td>\n",
              "      <td>0.287708</td>\n",
              "      <td>-14.205417</td>\n",
              "      <td>0.180675</td>\n",
              "      <td>115.983500</td>\n",
              "      <td>0.334433</td>\n",
              "      <td>38.000000</td>\n",
              "      <td>5</td>\n",
              "      <td>1</td>\n",
              "      <td>12</td>\n",
              "      <td>['show tunes']</td>\n",
              "    </tr>\n",
              "    <tr>\n",
              "      <th>1</th>\n",
              "      <td>\"Cats\" 1983 Broadway Cast</td>\n",
              "      <td>0.862538</td>\n",
              "      <td>0.441731</td>\n",
              "      <td>287280.000000</td>\n",
              "      <td>0.406808</td>\n",
              "      <td>0.081158</td>\n",
              "      <td>0.315215</td>\n",
              "      <td>-10.690000</td>\n",
              "      <td>0.176212</td>\n",
              "      <td>103.044154</td>\n",
              "      <td>0.268865</td>\n",
              "      <td>33.076923</td>\n",
              "      <td>5</td>\n",
              "      <td>1</td>\n",
              "      <td>26</td>\n",
              "      <td>[]</td>\n",
              "    </tr>\n",
              "    <tr>\n",
              "      <th>2</th>\n",
              "      <td>\"Fiddler On The Roof” Motion Picture Chorus</td>\n",
              "      <td>0.856571</td>\n",
              "      <td>0.348286</td>\n",
              "      <td>328920.000000</td>\n",
              "      <td>0.286571</td>\n",
              "      <td>0.024593</td>\n",
              "      <td>0.325786</td>\n",
              "      <td>-15.230714</td>\n",
              "      <td>0.118514</td>\n",
              "      <td>77.375857</td>\n",
              "      <td>0.354857</td>\n",
              "      <td>34.285714</td>\n",
              "      <td>0</td>\n",
              "      <td>1</td>\n",
              "      <td>7</td>\n",
              "      <td>[]</td>\n",
              "    </tr>\n",
              "    <tr>\n",
              "      <th>3</th>\n",
              "      <td>\"Fiddler On The Roof” Motion Picture Orchestra</td>\n",
              "      <td>0.884926</td>\n",
              "      <td>0.425074</td>\n",
              "      <td>262890.962963</td>\n",
              "      <td>0.245770</td>\n",
              "      <td>0.073587</td>\n",
              "      <td>0.275481</td>\n",
              "      <td>-15.639370</td>\n",
              "      <td>0.123200</td>\n",
              "      <td>88.667630</td>\n",
              "      <td>0.372030</td>\n",
              "      <td>34.444444</td>\n",
              "      <td>0</td>\n",
              "      <td>1</td>\n",
              "      <td>27</td>\n",
              "      <td>[]</td>\n",
              "    </tr>\n",
              "    <tr>\n",
              "      <th>4</th>\n",
              "      <td>\"Joseph And The Amazing Technicolor Dreamcoat\"...</td>\n",
              "      <td>0.605444</td>\n",
              "      <td>0.437333</td>\n",
              "      <td>232428.111111</td>\n",
              "      <td>0.429333</td>\n",
              "      <td>0.037534</td>\n",
              "      <td>0.216111</td>\n",
              "      <td>-11.447222</td>\n",
              "      <td>0.086000</td>\n",
              "      <td>120.329667</td>\n",
              "      <td>0.458667</td>\n",
              "      <td>42.555556</td>\n",
              "      <td>11</td>\n",
              "      <td>1</td>\n",
              "      <td>9</td>\n",
              "      <td>[]</td>\n",
              "    </tr>\n",
              "  </tbody>\n",
              "</table>\n",
              "</div>"
            ],
            "text/plain": [
              "                                             artists  ...          genres\n",
              "0                   \"Cats\" 1981 Original London Cast  ...  ['show tunes']\n",
              "1                          \"Cats\" 1983 Broadway Cast  ...              []\n",
              "2        \"Fiddler On The Roof” Motion Picture Chorus  ...              []\n",
              "3     \"Fiddler On The Roof” Motion Picture Orchestra  ...              []\n",
              "4  \"Joseph And The Amazing Technicolor Dreamcoat\"...  ...              []\n",
              "\n",
              "[5 rows x 16 columns]"
            ]
          },
          "metadata": {
            "tags": []
          },
          "execution_count": 5
        }
      ]
    },
    {
      "cell_type": "code",
      "metadata": {
        "colab": {
          "base_uri": "https://localhost:8080/"
        },
        "id": "RFxcqS2hRPbo",
        "outputId": "53fd7fd7-8dfb-4fc0-b8b3-a38dde44bb02"
      },
      "source": [
        "data_by_genres['genres'].value_counts()"
      ],
      "execution_count": 6,
      "outputs": [
        {
          "output_type": "execute_result",
          "data": {
            "text/plain": [
              "greek contemporary classical    1\n",
              "avant-garde metal               1\n",
              "australian post-hardcore        1\n",
              "dutch trance                    1\n",
              "desi hip hop                    1\n",
              "                               ..\n",
              "israeli hip hop                 1\n",
              "musikkorps                      1\n",
              "hindustani instrumental         1\n",
              "prepared piano                  1\n",
              "chamber ensemble                1\n",
              "Name: genres, Length: 2664, dtype: int64"
            ]
          },
          "metadata": {
            "tags": []
          },
          "execution_count": 6
        }
      ]
    },
    {
      "cell_type": "code",
      "metadata": {
        "colab": {
          "base_uri": "https://localhost:8080/"
        },
        "id": "BvY9HI5jTWvA",
        "outputId": "05c849ec-f579-4819-bc25-7ebf35dbbfd8"
      },
      "source": [
        "# filter genres text by dropping []\n",
        "df = data_by_genres.drop(data_by_genres[data_by_genres['genres'] == '[]'].index)\n",
        "print(len(df['genres'].unique()))\n",
        "print(len(df['genres']))"
      ],
      "execution_count": 7,
      "outputs": [
        {
          "output_type": "stream",
          "text": [
            "2663\n",
            "2663\n"
          ],
          "name": "stdout"
        }
      ]
    },
    {
      "cell_type": "code",
      "metadata": {
        "colab": {
          "base_uri": "https://localhost:8080/"
        },
        "id": "Fh2EngR1YEeu",
        "outputId": "9b7e6a1d-5b8e-46cf-c796-1136117d89bc"
      },
      "source": [
        "# Genre information rap and jazz\n",
        "print(df[df['genres']=='rap'].value_counts())\n",
        "print(df[df['genres']=='jazz'].value_counts())"
      ],
      "execution_count": 26,
      "outputs": [
        {
          "output_type": "stream",
          "text": [
            "genres  acousticness  danceability  duration_ms    energy    instrumentalness  liveness  loudness   speechiness  tempo      valence   popularity  key  mode\n",
            "rap     0.150576      0.722337      240354.883486  0.666648  0.014343          0.20951   -7.347116  0.208261     116.14225  0.553055  52.575048   1    1       1\n",
            "dtype: int64\n",
            "genres  acousticness  danceability  duration_ms    energy    instrumentalness  liveness  loudness    speechiness  tempo       valence   popularity  key  mode\n",
            "jazz    0.751593      0.505912      331072.141345  0.321045  0.374473          0.192582  -15.024195  0.059999     112.610828  0.483143  21.408293   5    1       1\n",
            "dtype: int64\n"
          ],
          "name": "stdout"
        }
      ]
    },
    {
      "cell_type": "code",
      "metadata": {
        "colab": {
          "base_uri": "https://localhost:8080/",
          "height": 419
        },
        "id": "f5C2Ay4odujj",
        "outputId": "7c07a691-1ac2-4e2f-927e-54f9435d780d"
      },
      "source": [
        "df.sort_values(by='popularity', ascending=False)"
      ],
      "execution_count": 9,
      "outputs": [
        {
          "output_type": "execute_result",
          "data": {
            "text/html": [
              "<div>\n",
              "<style scoped>\n",
              "    .dataframe tbody tr th:only-of-type {\n",
              "        vertical-align: middle;\n",
              "    }\n",
              "\n",
              "    .dataframe tbody tr th {\n",
              "        vertical-align: top;\n",
              "    }\n",
              "\n",
              "    .dataframe thead th {\n",
              "        text-align: right;\n",
              "    }\n",
              "</style>\n",
              "<table border=\"1\" class=\"dataframe\">\n",
              "  <thead>\n",
              "    <tr style=\"text-align: right;\">\n",
              "      <th></th>\n",
              "      <th>genres</th>\n",
              "      <th>acousticness</th>\n",
              "      <th>danceability</th>\n",
              "      <th>duration_ms</th>\n",
              "      <th>energy</th>\n",
              "      <th>instrumentalness</th>\n",
              "      <th>liveness</th>\n",
              "      <th>loudness</th>\n",
              "      <th>speechiness</th>\n",
              "      <th>tempo</th>\n",
              "      <th>valence</th>\n",
              "      <th>popularity</th>\n",
              "      <th>key</th>\n",
              "      <th>mode</th>\n",
              "    </tr>\n",
              "  </thead>\n",
              "  <tbody>\n",
              "    <tr>\n",
              "      <th>1118</th>\n",
              "      <td>guaracha</td>\n",
              "      <td>0.009030</td>\n",
              "      <td>0.745000</td>\n",
              "      <td>189818.000000</td>\n",
              "      <td>0.972000</td>\n",
              "      <td>0.465000</td>\n",
              "      <td>0.297000</td>\n",
              "      <td>-3.506000</td>\n",
              "      <td>0.077400</td>\n",
              "      <td>128.031000</td>\n",
              "      <td>0.556000</td>\n",
              "      <td>82.000000</td>\n",
              "      <td>7</td>\n",
              "      <td>1</td>\n",
              "    </tr>\n",
              "    <tr>\n",
              "      <th>512</th>\n",
              "      <td>circuit</td>\n",
              "      <td>0.009030</td>\n",
              "      <td>0.745000</td>\n",
              "      <td>189818.000000</td>\n",
              "      <td>0.972000</td>\n",
              "      <td>0.465000</td>\n",
              "      <td>0.297000</td>\n",
              "      <td>-3.506000</td>\n",
              "      <td>0.077400</td>\n",
              "      <td>128.031000</td>\n",
              "      <td>0.556000</td>\n",
              "      <td>82.000000</td>\n",
              "      <td>7</td>\n",
              "      <td>1</td>\n",
              "    </tr>\n",
              "    <tr>\n",
              "      <th>2141</th>\n",
              "      <td>russian dance</td>\n",
              "      <td>0.005610</td>\n",
              "      <td>0.653000</td>\n",
              "      <td>198095.000000</td>\n",
              "      <td>0.945000</td>\n",
              "      <td>0.915000</td>\n",
              "      <td>0.439000</td>\n",
              "      <td>-2.634000</td>\n",
              "      <td>0.096000</td>\n",
              "      <td>126.093000</td>\n",
              "      <td>0.326000</td>\n",
              "      <td>79.000000</td>\n",
              "      <td>5</td>\n",
              "      <td>1</td>\n",
              "    </tr>\n",
              "    <tr>\n",
              "      <th>34</th>\n",
              "      <td>afroswing</td>\n",
              "      <td>0.367658</td>\n",
              "      <td>0.697292</td>\n",
              "      <td>186504.958333</td>\n",
              "      <td>0.564667</td>\n",
              "      <td>0.000180</td>\n",
              "      <td>0.210796</td>\n",
              "      <td>-7.439500</td>\n",
              "      <td>0.180471</td>\n",
              "      <td>79.759917</td>\n",
              "      <td>0.701125</td>\n",
              "      <td>77.625000</td>\n",
              "      <td>11</td>\n",
              "      <td>0</td>\n",
              "    </tr>\n",
              "    <tr>\n",
              "      <th>2104</th>\n",
              "      <td>ritmo kombina</td>\n",
              "      <td>0.251333</td>\n",
              "      <td>0.845000</td>\n",
              "      <td>172747.333333</td>\n",
              "      <td>0.578333</td>\n",
              "      <td>0.000040</td>\n",
              "      <td>0.069533</td>\n",
              "      <td>-5.927667</td>\n",
              "      <td>0.111667</td>\n",
              "      <td>132.154000</td>\n",
              "      <td>0.505333</td>\n",
              "      <td>77.333333</td>\n",
              "      <td>2</td>\n",
              "      <td>0</td>\n",
              "    </tr>\n",
              "    <tr>\n",
              "      <th>...</th>\n",
              "      <td>...</td>\n",
              "      <td>...</td>\n",
              "      <td>...</td>\n",
              "      <td>...</td>\n",
              "      <td>...</td>\n",
              "      <td>...</td>\n",
              "      <td>...</td>\n",
              "      <td>...</td>\n",
              "      <td>...</td>\n",
              "      <td>...</td>\n",
              "      <td>...</td>\n",
              "      <td>...</td>\n",
              "      <td>...</td>\n",
              "      <td>...</td>\n",
              "    </tr>\n",
              "    <tr>\n",
              "      <th>1786</th>\n",
              "      <td>norman ok indie</td>\n",
              "      <td>0.981000</td>\n",
              "      <td>0.506000</td>\n",
              "      <td>184790.000000</td>\n",
              "      <td>0.120000</td>\n",
              "      <td>0.000067</td>\n",
              "      <td>0.295000</td>\n",
              "      <td>-11.685000</td>\n",
              "      <td>0.058400</td>\n",
              "      <td>110.825000</td>\n",
              "      <td>0.456000</td>\n",
              "      <td>0.000000</td>\n",
              "      <td>4</td>\n",
              "      <td>1</td>\n",
              "    </tr>\n",
              "    <tr>\n",
              "      <th>1406</th>\n",
              "      <td>jewish cantorial</td>\n",
              "      <td>0.982000</td>\n",
              "      <td>0.214000</td>\n",
              "      <td>278560.000000</td>\n",
              "      <td>0.143000</td>\n",
              "      <td>0.000003</td>\n",
              "      <td>0.084700</td>\n",
              "      <td>-11.231000</td>\n",
              "      <td>0.037900</td>\n",
              "      <td>70.720000</td>\n",
              "      <td>0.053300</td>\n",
              "      <td>0.000000</td>\n",
              "      <td>2</td>\n",
              "      <td>0</td>\n",
              "    </tr>\n",
              "    <tr>\n",
              "      <th>1286</th>\n",
              "      <td>islamic recitation</td>\n",
              "      <td>0.988000</td>\n",
              "      <td>0.555000</td>\n",
              "      <td>184172.000000</td>\n",
              "      <td>0.304000</td>\n",
              "      <td>0.000133</td>\n",
              "      <td>0.223000</td>\n",
              "      <td>-9.738000</td>\n",
              "      <td>0.407000</td>\n",
              "      <td>84.909000</td>\n",
              "      <td>0.711000</td>\n",
              "      <td>0.000000</td>\n",
              "      <td>2</td>\n",
              "      <td>0</td>\n",
              "    </tr>\n",
              "    <tr>\n",
              "      <th>1635</th>\n",
              "      <td>modern free jazz</td>\n",
              "      <td>0.961000</td>\n",
              "      <td>0.308000</td>\n",
              "      <td>157889.000000</td>\n",
              "      <td>0.308000</td>\n",
              "      <td>0.824000</td>\n",
              "      <td>0.187000</td>\n",
              "      <td>-12.950000</td>\n",
              "      <td>0.039500</td>\n",
              "      <td>116.145000</td>\n",
              "      <td>0.355000</td>\n",
              "      <td>0.000000</td>\n",
              "      <td>2</td>\n",
              "      <td>1</td>\n",
              "    </tr>\n",
              "    <tr>\n",
              "      <th>1055</th>\n",
              "      <td>german oi</td>\n",
              "      <td>0.106143</td>\n",
              "      <td>0.281500</td>\n",
              "      <td>166540.000000</td>\n",
              "      <td>0.788000</td>\n",
              "      <td>0.370012</td>\n",
              "      <td>0.390000</td>\n",
              "      <td>-8.536500</td>\n",
              "      <td>0.088650</td>\n",
              "      <td>172.404000</td>\n",
              "      <td>0.338000</td>\n",
              "      <td>0.000000</td>\n",
              "      <td>11</td>\n",
              "      <td>1</td>\n",
              "    </tr>\n",
              "  </tbody>\n",
              "</table>\n",
              "<p>2663 rows × 14 columns</p>\n",
              "</div>"
            ],
            "text/plain": [
              "                  genres  acousticness  danceability  ...  popularity  key  mode\n",
              "1118            guaracha      0.009030      0.745000  ...   82.000000    7     1\n",
              "512              circuit      0.009030      0.745000  ...   82.000000    7     1\n",
              "2141       russian dance      0.005610      0.653000  ...   79.000000    5     1\n",
              "34             afroswing      0.367658      0.697292  ...   77.625000   11     0\n",
              "2104       ritmo kombina      0.251333      0.845000  ...   77.333333    2     0\n",
              "...                  ...           ...           ...  ...         ...  ...   ...\n",
              "1786     norman ok indie      0.981000      0.506000  ...    0.000000    4     1\n",
              "1406    jewish cantorial      0.982000      0.214000  ...    0.000000    2     0\n",
              "1286  islamic recitation      0.988000      0.555000  ...    0.000000    2     0\n",
              "1635    modern free jazz      0.961000      0.308000  ...    0.000000    2     1\n",
              "1055           german oi      0.106143      0.281500  ...    0.000000   11     1\n",
              "\n",
              "[2663 rows x 14 columns]"
            ]
          },
          "metadata": {
            "tags": []
          },
          "execution_count": 9
        }
      ]
    },
    {
      "cell_type": "code",
      "metadata": {
        "colab": {
          "base_uri": "https://localhost:8080/"
        },
        "id": "m7O6KLu_fpxL",
        "outputId": "546ed2b0-2da6-49c3-8b6f-f1059cc2f0bb"
      },
      "source": [
        "len(df['genres'].unique())"
      ],
      "execution_count": 10,
      "outputs": [
        {
          "output_type": "execute_result",
          "data": {
            "text/plain": [
              "2663"
            ]
          },
          "metadata": {
            "tags": []
          },
          "execution_count": 10
        }
      ]
    },
    {
      "cell_type": "code",
      "metadata": {
        "colab": {
          "base_uri": "https://localhost:8080/",
          "height": 204
        },
        "id": "kD66ZSai6hto",
        "outputId": "8c8abdfd-4a53-49b1-c91b-261d8201ffee"
      },
      "source": [
        "df.head()"
      ],
      "execution_count": 11,
      "outputs": [
        {
          "output_type": "execute_result",
          "data": {
            "text/html": [
              "<div>\n",
              "<style scoped>\n",
              "    .dataframe tbody tr th:only-of-type {\n",
              "        vertical-align: middle;\n",
              "    }\n",
              "\n",
              "    .dataframe tbody tr th {\n",
              "        vertical-align: top;\n",
              "    }\n",
              "\n",
              "    .dataframe thead th {\n",
              "        text-align: right;\n",
              "    }\n",
              "</style>\n",
              "<table border=\"1\" class=\"dataframe\">\n",
              "  <thead>\n",
              "    <tr style=\"text-align: right;\">\n",
              "      <th></th>\n",
              "      <th>genres</th>\n",
              "      <th>acousticness</th>\n",
              "      <th>danceability</th>\n",
              "      <th>duration_ms</th>\n",
              "      <th>energy</th>\n",
              "      <th>instrumentalness</th>\n",
              "      <th>liveness</th>\n",
              "      <th>loudness</th>\n",
              "      <th>speechiness</th>\n",
              "      <th>tempo</th>\n",
              "      <th>valence</th>\n",
              "      <th>popularity</th>\n",
              "      <th>key</th>\n",
              "      <th>mode</th>\n",
              "    </tr>\n",
              "  </thead>\n",
              "  <tbody>\n",
              "    <tr>\n",
              "      <th>0</th>\n",
              "      <td>432hz</td>\n",
              "      <td>0.494780</td>\n",
              "      <td>0.299333</td>\n",
              "      <td>1.048887e+06</td>\n",
              "      <td>0.450678</td>\n",
              "      <td>0.477762</td>\n",
              "      <td>0.131000</td>\n",
              "      <td>-16.854000</td>\n",
              "      <td>0.076817</td>\n",
              "      <td>120.285667</td>\n",
              "      <td>0.221750</td>\n",
              "      <td>52.166667</td>\n",
              "      <td>5</td>\n",
              "      <td>1</td>\n",
              "    </tr>\n",
              "    <tr>\n",
              "      <th>2</th>\n",
              "      <td>a cappella</td>\n",
              "      <td>0.621532</td>\n",
              "      <td>0.577017</td>\n",
              "      <td>1.936522e+05</td>\n",
              "      <td>0.345694</td>\n",
              "      <td>0.003799</td>\n",
              "      <td>0.127087</td>\n",
              "      <td>-12.770211</td>\n",
              "      <td>0.095324</td>\n",
              "      <td>111.813230</td>\n",
              "      <td>0.453186</td>\n",
              "      <td>43.351819</td>\n",
              "      <td>11</td>\n",
              "      <td>1</td>\n",
              "    </tr>\n",
              "    <tr>\n",
              "      <th>3</th>\n",
              "      <td>abstract</td>\n",
              "      <td>0.359395</td>\n",
              "      <td>0.459500</td>\n",
              "      <td>3.430185e+05</td>\n",
              "      <td>0.487000</td>\n",
              "      <td>0.791400</td>\n",
              "      <td>0.119480</td>\n",
              "      <td>-14.092000</td>\n",
              "      <td>0.043420</td>\n",
              "      <td>124.743200</td>\n",
              "      <td>0.304990</td>\n",
              "      <td>41.500000</td>\n",
              "      <td>1</td>\n",
              "      <td>1</td>\n",
              "    </tr>\n",
              "    <tr>\n",
              "      <th>4</th>\n",
              "      <td>abstract beats</td>\n",
              "      <td>0.353347</td>\n",
              "      <td>0.694400</td>\n",
              "      <td>2.338244e+05</td>\n",
              "      <td>0.613400</td>\n",
              "      <td>0.349403</td>\n",
              "      <td>0.102453</td>\n",
              "      <td>-6.699800</td>\n",
              "      <td>0.143453</td>\n",
              "      <td>119.398400</td>\n",
              "      <td>0.634187</td>\n",
              "      <td>58.600000</td>\n",
              "      <td>10</td>\n",
              "      <td>0</td>\n",
              "    </tr>\n",
              "    <tr>\n",
              "      <th>5</th>\n",
              "      <td>abstract hip hop</td>\n",
              "      <td>0.205872</td>\n",
              "      <td>0.723132</td>\n",
              "      <td>2.490951e+05</td>\n",
              "      <td>0.645461</td>\n",
              "      <td>0.002853</td>\n",
              "      <td>0.168032</td>\n",
              "      <td>-7.216007</td>\n",
              "      <td>0.250104</td>\n",
              "      <td>112.160287</td>\n",
              "      <td>0.584392</td>\n",
              "      <td>43.804971</td>\n",
              "      <td>11</td>\n",
              "      <td>1</td>\n",
              "    </tr>\n",
              "  </tbody>\n",
              "</table>\n",
              "</div>"
            ],
            "text/plain": [
              "             genres  acousticness  danceability  ...  popularity  key  mode\n",
              "0             432hz      0.494780      0.299333  ...   52.166667    5     1\n",
              "2        a cappella      0.621532      0.577017  ...   43.351819   11     1\n",
              "3          abstract      0.359395      0.459500  ...   41.500000    1     1\n",
              "4    abstract beats      0.353347      0.694400  ...   58.600000   10     0\n",
              "5  abstract hip hop      0.205872      0.723132  ...   43.804971   11     1\n",
              "\n",
              "[5 rows x 14 columns]"
            ]
          },
          "metadata": {
            "tags": []
          },
          "execution_count": 11
        }
      ]
    },
    {
      "cell_type": "code",
      "metadata": {
        "colab": {
          "base_uri": "https://localhost:8080/"
        },
        "id": "3Di6Uu-afq4c",
        "outputId": "86c86c6a-7b3d-4aef-f331-9553e41278e5"
      },
      "source": [
        "in_columns = [df.columns[i] for i in range(len(df.columns))]\n",
        "print(in_columns)"
      ],
      "execution_count": 12,
      "outputs": [
        {
          "output_type": "stream",
          "text": [
            "['genres', 'acousticness', 'danceability', 'duration_ms', 'energy', 'instrumentalness', 'liveness', 'loudness', 'speechiness', 'tempo', 'valence', 'popularity', 'key', 'mode']\n"
          ],
          "name": "stdout"
        }
      ]
    },
    {
      "cell_type": "code",
      "metadata": {
        "id": "BdL5cI3mhBss"
      },
      "source": [
        "df_known = df.copy()"
      ],
      "execution_count": 14,
      "outputs": []
    },
    {
      "cell_type": "code",
      "metadata": {
        "colab": {
          "base_uri": "https://localhost:8080/",
          "height": 669
        },
        "id": "9ue3bks_lQsA",
        "outputId": "540e507c-0a45-408c-8332-2e2e7f646f60"
      },
      "source": [
        "df_feature = df_known.drop('genres', axis=1)\n",
        "df_target = df_known.drop(df_feature.columns, axis=1)\n",
        "df_feature.head()\n",
        "df_target.head(20)"
      ],
      "execution_count": 15,
      "outputs": [
        {
          "output_type": "execute_result",
          "data": {
            "text/html": [
              "<div>\n",
              "<style scoped>\n",
              "    .dataframe tbody tr th:only-of-type {\n",
              "        vertical-align: middle;\n",
              "    }\n",
              "\n",
              "    .dataframe tbody tr th {\n",
              "        vertical-align: top;\n",
              "    }\n",
              "\n",
              "    .dataframe thead th {\n",
              "        text-align: right;\n",
              "    }\n",
              "</style>\n",
              "<table border=\"1\" class=\"dataframe\">\n",
              "  <thead>\n",
              "    <tr style=\"text-align: right;\">\n",
              "      <th></th>\n",
              "      <th>genres</th>\n",
              "    </tr>\n",
              "  </thead>\n",
              "  <tbody>\n",
              "    <tr>\n",
              "      <th>0</th>\n",
              "      <td>432hz</td>\n",
              "    </tr>\n",
              "    <tr>\n",
              "      <th>2</th>\n",
              "      <td>a cappella</td>\n",
              "    </tr>\n",
              "    <tr>\n",
              "      <th>3</th>\n",
              "      <td>abstract</td>\n",
              "    </tr>\n",
              "    <tr>\n",
              "      <th>4</th>\n",
              "      <td>abstract beats</td>\n",
              "    </tr>\n",
              "    <tr>\n",
              "      <th>5</th>\n",
              "      <td>abstract hip hop</td>\n",
              "    </tr>\n",
              "    <tr>\n",
              "      <th>6</th>\n",
              "      <td>accordeon</td>\n",
              "    </tr>\n",
              "    <tr>\n",
              "      <th>7</th>\n",
              "      <td>accordion</td>\n",
              "    </tr>\n",
              "    <tr>\n",
              "      <th>8</th>\n",
              "      <td>acid house</td>\n",
              "    </tr>\n",
              "    <tr>\n",
              "      <th>9</th>\n",
              "      <td>acid jazz</td>\n",
              "    </tr>\n",
              "    <tr>\n",
              "      <th>10</th>\n",
              "      <td>acid rock</td>\n",
              "    </tr>\n",
              "    <tr>\n",
              "      <th>11</th>\n",
              "      <td>acid trance</td>\n",
              "    </tr>\n",
              "    <tr>\n",
              "      <th>12</th>\n",
              "      <td>acousmatic</td>\n",
              "    </tr>\n",
              "    <tr>\n",
              "      <th>13</th>\n",
              "      <td>acoustic blues</td>\n",
              "    </tr>\n",
              "    <tr>\n",
              "      <th>14</th>\n",
              "      <td>acoustic pop</td>\n",
              "    </tr>\n",
              "    <tr>\n",
              "      <th>15</th>\n",
              "      <td>acoustic punk</td>\n",
              "    </tr>\n",
              "    <tr>\n",
              "      <th>16</th>\n",
              "      <td>adoracion</td>\n",
              "    </tr>\n",
              "    <tr>\n",
              "      <th>17</th>\n",
              "      <td>adult standards</td>\n",
              "    </tr>\n",
              "    <tr>\n",
              "      <th>18</th>\n",
              "      <td>adventista</td>\n",
              "    </tr>\n",
              "    <tr>\n",
              "      <th>19</th>\n",
              "      <td>afghan pop</td>\n",
              "    </tr>\n",
              "    <tr>\n",
              "      <th>20</th>\n",
              "      <td>african gospel</td>\n",
              "    </tr>\n",
              "  </tbody>\n",
              "</table>\n",
              "</div>"
            ],
            "text/plain": [
              "              genres\n",
              "0              432hz\n",
              "2         a cappella\n",
              "3           abstract\n",
              "4     abstract beats\n",
              "5   abstract hip hop\n",
              "6          accordeon\n",
              "7          accordion\n",
              "8         acid house\n",
              "9          acid jazz\n",
              "10         acid rock\n",
              "11       acid trance\n",
              "12        acousmatic\n",
              "13    acoustic blues\n",
              "14      acoustic pop\n",
              "15     acoustic punk\n",
              "16         adoracion\n",
              "17   adult standards\n",
              "18        adventista\n",
              "19        afghan pop\n",
              "20    african gospel"
            ]
          },
          "metadata": {
            "tags": []
          },
          "execution_count": 15
        }
      ]
    },
    {
      "cell_type": "markdown",
      "metadata": {
        "id": "eN7DvH5XlV-5"
      },
      "source": [
        "## Step 1: Pre-processing\n",
        "Perform the preprocessing of the Output variable (Genre) by using One Hot Encoding"
      ]
    },
    {
      "cell_type": "code",
      "metadata": {
        "colab": {
          "base_uri": "https://localhost:8080/"
        },
        "id": "FMIDT02mmnPf",
        "outputId": "aca65497-9ec4-4631-d65a-6d25c530bccd"
      },
      "source": [
        "# Load pre-processing libraries\n",
        "from sklearn.preprocessing import OneHotEncoder, LabelEncoder\n",
        "\n",
        "label_encode = LabelEncoder()\n",
        "int_encode = label_encode.fit_transform(np.array(df_target).ravel())\n",
        "Target = OneHotEncoder(sparse=False, drop='first').fit_transform(int_encode.reshape(-1,1))\n",
        "print(Target)\n",
        "inverted = label_encode.inverse_transform([np.argmax(Target[0, :])+1]) \n",
        "print(inverted)\n"
      ],
      "execution_count": 16,
      "outputs": [
        {
          "output_type": "stream",
          "text": [
            "[[0. 0. 0. ... 0. 0. 0.]\n",
            " [1. 0. 0. ... 0. 0. 0.]\n",
            " [0. 1. 0. ... 0. 0. 0.]\n",
            " ...\n",
            " [0. 0. 0. ... 1. 0. 0.]\n",
            " [0. 0. 0. ... 0. 1. 0.]\n",
            " [0. 0. 0. ... 0. 0. 1.]]\n",
            "['a cappella']\n"
          ],
          "name": "stdout"
        }
      ]
    },
    {
      "cell_type": "code",
      "metadata": {
        "id": "P3o8HvF4RjFK"
      },
      "source": [
        "# Load PyTorch library\n",
        "import torch\n",
        "import torch.nn as nn\n",
        "import torch.nn.functional as F\n",
        "from sklearn.model_selection import train_test_split\n",
        "from sklearn.metrics import confusion_matrix"
      ],
      "execution_count": 27,
      "outputs": []
    },
    {
      "cell_type": "code",
      "metadata": {
        "colab": {
          "base_uri": "https://localhost:8080/"
        },
        "id": "0lQsHkmnbNC9",
        "outputId": "1b42e3e5-3ba1-41f9-8e62-afa39140d4dd"
      },
      "source": [
        "# Dataset split to train and test\n",
        "train_x_orig, test_x_orig, train_y_orig, test_y_orig = train_test_split(df_feature, Target, test_size=0.3, random_state=2)\n",
        "train_x, train_y = train_x_orig.T, train_y_orig.T\n",
        "test_x, test_y = test_x_orig.T, test_y_orig.T \n",
        "print(\"Train Size: X Features {}, Y Target {}\".format(train_x.shape, train_y.shape))\n",
        "print(\"Test Size: X Features {}, Y Target {}\".format(test_x.shape, test_y.shape))"
      ],
      "execution_count": 18,
      "outputs": [
        {
          "output_type": "stream",
          "text": [
            "Train Size: X Features (13, 1864), Y Target (2662, 1864)\n",
            "Test Size: X Features (13, 799), Y Target (2662, 799)\n"
          ],
          "name": "stdout"
        }
      ]
    },
    {
      "cell_type": "markdown",
      "metadata": {
        "id": "vd32T8ihlury"
      },
      "source": [
        "## Step 2: Implement a FCN \n",
        "implementing a Neural Network from scratch"
      ]
    },
    {
      "cell_type": "code",
      "metadata": {
        "id": "3wNmXXIvchlb"
      },
      "source": [
        "class FCN(nn.Module):\n",
        "  \"\"\"\n",
        "  Model class creates a Neural network\n",
        "  param : Input Layer size, hidden layer 1 size, hidden layer 2 size, output layer size\n",
        "  return : Activated output\n",
        "  \"\"\"\n",
        "  def __init__(self, n_input, n_hidden1, n_hidden2, n_output):\n",
        "    super(FCN,self).__init__()\n",
        "    self.fc1 = nn.Linear(n_input, n_hidden1)\n",
        "    self.fc2 = nn.Linear(n_hidden1, n_hidden2)\n",
        "    self.fc3 = nn.Linear(n_hidden2, n_output)\n",
        "    self.softmax = nn.Softmax(dim=1)\n",
        "  \n",
        "  def forward(self, x):\n",
        "    x = torch.relu(self.fc1(x))\n",
        "    x = torch.relu(self.fc2(x))\n",
        "    x = self.fc3(x)\n",
        "    # out = torch.softmax(x, dim=1)\n",
        "    # out = self.softmax(x)\n",
        "    out = torch.sigmoid(x)\n",
        "    return out"
      ],
      "execution_count": 32,
      "outputs": []
    },
    {
      "cell_type": "code",
      "metadata": {
        "id": "Sv9dewPoj_ZF"
      },
      "source": [
        "# Setting the hyper-parameters of the model\n",
        "learning_rate = 0.01\n",
        "momentum = 0.9\n",
        "weight_decay = 0.01\n",
        "epochs = 1000\n",
        "\n",
        "n_x = train_x.shape[0]\n",
        "n_h1 = 13\n",
        "n_h2 = 7\n",
        "n_y = train_y.shape[0]\n",
        "\n",
        "model = FCN(n_x, n_h1, n_h2, n_y) # Load model\n",
        "loss_func = nn.MultiLabelSoftMarginLoss() #Defining the loss function: Muli Label loss\n",
        "optim = torch.optim.SGD(model.parameters(), lr=learning_rate, momentum=momentum,weight_decay = weight_decay) #Create optimizer based on 'SGD'"
      ],
      "execution_count": 33,
      "outputs": []
    },
    {
      "cell_type": "code",
      "metadata": {
        "id": "XJaDu3FMlSgu"
      },
      "source": [
        "# Convert Numpy to tensor\n",
        "TrainX = torch.from_numpy(np.array(train_x))\n",
        "TrainY = torch.from_numpy(np.array(train_y))\n",
        "TestX = torch.from_numpy(np.array(test_x))\n",
        "TestY = torch.from_numpy(np.array(test_y))"
      ],
      "execution_count": 34,
      "outputs": []
    },
    {
      "cell_type": "markdown",
      "metadata": {
        "id": "S9GmoyEkmLmg"
      },
      "source": [
        "## Step 3: Train Model"
      ]
    },
    {
      "cell_type": "code",
      "metadata": {
        "colab": {
          "base_uri": "https://localhost:8080/"
        },
        "id": "93EgRGWzlv3g",
        "outputId": "190c5c4a-dd6f-490f-d5c9-303c24a2a9b8"
      },
      "source": [
        "# Train Model\n",
        "model.train()\n",
        "\n",
        "training_losses = []\n",
        "for epoch in range(0,epochs):\n",
        "  model_output = model(TrainX.T.float())\n",
        "  loss = loss_func(model_output,TrainY.T.float())\n",
        "  training_losses.append(loss)\n",
        "\n",
        "  optim.zero_grad()\n",
        "  loss.backward()\n",
        "  optim.step()\n",
        "  if epoch%100==0:\n",
        "    print(\"Epoch: {}, Training Loss: {}\".format(epoch,loss.item()))\n",
        "\n",
        "print(\"Training Loss: \"+str(training_losses[-1].float()))"
      ],
      "execution_count": 35,
      "outputs": [
        {
          "output_type": "stream",
          "text": [
            "Epoch: 0, Training Loss: 1.0099961757659912\n",
            "Epoch: 100, Training Loss: 1.0095363855361938\n",
            "Epoch: 200, Training Loss: 1.0093032121658325\n",
            "Epoch: 300, Training Loss: 1.0093032121658325\n",
            "Epoch: 400, Training Loss: 1.009303092956543\n",
            "Epoch: 500, Training Loss: 1.0037118196487427\n",
            "Epoch: 600, Training Loss: 1.0027821063995361\n",
            "Epoch: 700, Training Loss: 1.0025495290756226\n",
            "Epoch: 800, Training Loss: 1.002549409866333\n",
            "Epoch: 900, Training Loss: 1.002083659172058\n",
            "Training Loss: tensor(1.0014, grad_fn=<MeanBackward0>)\n"
          ],
          "name": "stdout"
        }
      ]
    },
    {
      "cell_type": "code",
      "metadata": {
        "id": "2GZqjccemCbf",
        "colab": {
          "base_uri": "https://localhost:8080/"
        },
        "outputId": "8c14dc34-7af4-4523-80f0-2aa768dfbf38"
      },
      "source": [
        "# Evaluate model and predictions\n",
        "model.eval()\n",
        "predictions = model(TestX.T.float())\n",
        "print(predictions)\n",
        "predictions[predictions > 0.18] = 1\n",
        "predictions[predictions < 0.18] = 0\n",
        "print(predictions)"
      ],
      "execution_count": 36,
      "outputs": [
        {
          "output_type": "stream",
          "text": [
            "tensor([[1.0000e+00, 1.0000e+00, 4.1658e-10,  ..., 0.0000e+00, 1.0000e+00,\n",
            "         1.0000e+00],\n",
            "        [1.0000e+00, 1.0000e+00, 3.8575e-08,  ..., 0.0000e+00, 1.0000e+00,\n",
            "         1.0000e+00],\n",
            "        [1.0000e+00, 1.0000e+00, 1.0976e-13,  ..., 0.0000e+00, 1.0000e+00,\n",
            "         1.0000e+00],\n",
            "        ...,\n",
            "        [1.0000e+00, 1.0000e+00, 1.7103e-08,  ..., 0.0000e+00, 1.0000e+00,\n",
            "         1.0000e+00],\n",
            "        [1.0000e+00, 1.0000e+00, 5.9609e-11,  ..., 0.0000e+00, 1.0000e+00,\n",
            "         1.0000e+00],\n",
            "        [1.0000e+00, 1.0000e+00, 9.2356e-11,  ..., 0.0000e+00, 1.0000e+00,\n",
            "         1.0000e+00]], grad_fn=<SigmoidBackward>)\n",
            "tensor([[1., 1., 0.,  ..., 0., 1., 1.],\n",
            "        [1., 1., 0.,  ..., 0., 1., 1.],\n",
            "        [1., 1., 0.,  ..., 0., 1., 1.],\n",
            "        ...,\n",
            "        [1., 1., 0.,  ..., 0., 1., 1.],\n",
            "        [1., 1., 0.,  ..., 0., 1., 1.],\n",
            "        [1., 1., 0.,  ..., 0., 1., 1.]], grad_fn=<IndexPutBackward>)\n"
          ],
          "name": "stdout"
        }
      ]
    },
    {
      "cell_type": "code",
      "metadata": {
        "colab": {
          "base_uri": "https://localhost:8080/"
        },
        "id": "CkCuvFi6hUJ0",
        "outputId": "cbb7aeea-2842-4663-9dff-06bd39fb2207"
      },
      "source": [
        "# Evaluation using confusion matrix\r\n",
        "# The model overfits and does not converge\r\n",
        "y_test = torch.max(TestY.T, 1)[1].detach().numpy()\r\n",
        "y_pred = torch.max(predictions, 1)[1].detach().numpy()\r\n",
        "print(y_test.shape)\r\n",
        "print(y_pred.shape)\r\n",
        "confusion_matrix(y_pred, y_test)"
      ],
      "execution_count": 37,
      "outputs": [
        {
          "output_type": "stream",
          "text": [
            "(799,)\n",
            "(799,)\n"
          ],
          "name": "stdout"
        },
        {
          "output_type": "execute_result",
          "data": {
            "text/plain": [
              "array([[0, 1, 1, ..., 1, 1, 1],\n",
              "       [0, 0, 0, ..., 0, 0, 0],\n",
              "       [0, 0, 0, ..., 0, 0, 0],\n",
              "       ...,\n",
              "       [0, 0, 0, ..., 0, 0, 0],\n",
              "       [0, 0, 0, ..., 0, 0, 0],\n",
              "       [0, 0, 0, ..., 0, 0, 0]])"
            ]
          },
          "metadata": {
            "tags": []
          },
          "execution_count": 37
        }
      ]
    },
    {
      "cell_type": "code",
      "metadata": {
        "id": "yu6LlOvYhy7K"
      },
      "source": [
        "pip freeze > requirements.txt"
      ],
      "execution_count": 38,
      "outputs": []
    },
    {
      "cell_type": "code",
      "metadata": {
        "id": "FWiktBLuokSN"
      },
      "source": [
        ""
      ],
      "execution_count": null,
      "outputs": []
    }
  ]
}